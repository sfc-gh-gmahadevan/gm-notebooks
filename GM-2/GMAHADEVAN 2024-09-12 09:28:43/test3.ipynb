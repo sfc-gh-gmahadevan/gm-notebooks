{
 "metadata": {
  "kernelspec": {
   "display_name": "Streamlit Notebook",
   "name": "streamlit"
  }
 },
 "nbformat_minor": 5,
 "nbformat": 4,
 "cells": [
  {
   "cell_type": "code",
   "id": "3775908f-ca36-4846-8f38-5adca39217f2",
   "metadata": {
    "language": "python",
    "name": "cell1"
   },
   "source": "# Import python packages\nimport streamlit as st\nimport pandas as pd\n\n# We can also use Snowpark for our analyses!\nfrom snowflake.snowpark.context import get_active_session\nsession = get_active_session()\n",
   "execution_count": null,
   "outputs": []
  },
  {
   "cell_type": "code",
   "id": "8d50cbf4-0c8d-4950-86cb-114990437ac9",
   "metadata": {
    "language": "python",
    "name": "cell2",
    "collapsed": false
   },
   "source": "import sys\n\nargs = {}\n\nif sys.argv:\n    input_str = sys.argv[0]\n    input_list = input_str.split()\n    for arg in input_list:\n        if '=' in arg:\n            key, value = arg.split('=')\n            args[key] = value\n\ndef test_arg():\n    for k, v in args.items():\n        print(k , v)\n\ntest_arg()",
   "execution_count": null,
   "outputs": []
  },
  {
   "cell_type": "code",
   "id": "eba70d38-56d3-4320-a962-5c90ad9484a1",
   "metadata": {
    "language": "python",
    "name": "cell3"
   },
   "outputs": [],
   "source": "print(\"executed notebook test_nb\")",
   "execution_count": null
  }
 ]
}