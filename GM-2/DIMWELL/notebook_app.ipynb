{
 "metadata": {
  "kernelspec": {
   "display_name": "Streamlit Notebook",
   "name": "streamlit"
  }
 },
 "nbformat_minor": 5,
 "nbformat": 4,
 "cells": [
  {
   "cell_type": "code",
   "id": "3775908f-ca36-4846-8f38-5adca39217f2",
   "metadata": {
    "language": "python",
    "name": "cell1",
    "collapsed": false
   },
   "source": "# Import python packages\nimport streamlit as st\nimport pandas as pd\nimport snowpark_extensions\nimport helper_object\n# We can also use Snowpark for our analyses!\nfrom snowflake.snowpark.context import get_active_session\nsession = get_active_session()",
   "execution_count": null,
   "outputs": []
  },
  {
   "cell_type": "code",
   "id": "8d50cbf4-0c8d-4950-86cb-114990437ac9",
   "metadata": {
    "language": "python",
    "name": "cell2",
    "collapsed": false
   },
   "source": "import datetime\nfrom snowflake.snowpark.types import *\nfrom snowflake.snowpark.functions import *\nfrom functools import reduce",
   "execution_count": null,
   "outputs": []
  },
  {
   "cell_type": "code",
   "id": "c695373e-ac74-4b62-a1f1-08206cbd5c81",
   "metadata": {
    "language": "python",
    "name": "cell3"
   },
   "source": "# dbutils.widgets.text(\"pipelineID\", \"\", \"pipelineID\")\n# dbutils.widgets.text(\"jobID\", \"\", \"jobID\")\n# dbutils.widgets.text(\"debugFlag\", \"\", \"debugFlag\")\n# dbutils.widgets.text(\"getParameterPropertyApiUrl\", \"\", \"getParameterPropertyApiUrl\")\n# dbutils.widgets.text(\"processStartDateTime\", \"\", \"processStartDateTime\")\n# dbutils.widgets.text(\"processEndDateTime\", \"\", \"processEndDateTime\")\n\n# pipeline_id = dbutils.widgets.get(\"pipelineID\")\n# job_id = dbutils.widgets.get(\"jobID\")\n# get_parameter_property_api_url = dbutils.widgets.get(\"getParameterPropertyApiUrl\")\n# debug_flag = dbutils.widgets.get(\"debugFlag\")\n# process_start_datetime = datetime.datetime.strptime(dbutils.widgets.get(\"processStartDateTime\"), \"%Y-%m-%dT%H:%M:%S\")\n# process_end_datetime = datetime.datetime.strptime(dbutils.widgets.get(\"processEndDateTime\"), \"%Y-%m-%dT%H:%M:%S\")\n\n# #Getting remaining pipeline parameters\n# parameter_dictionary = get_pipeline_parameter_values(pipeline_id, get_parameter_property_api_url, debug_flag, job_id)\n# data_lake_service_principal_client_id_secret_reference = parameter_dictionary['dataLakeServicePrincipalClientIdSecretReference']\n# data_lake_service_principal_client_secret_secret_reference = parameter_dictionary['dataLakeServicePrincipalClientSecretSecretReference']\n# tenant_id_secret_reference = parameter_dictionary['tenantIdSecretReference']\n# silver_storage_account = parameter_dictionary['silverStorageAccount']\n# source_raw_folder_paths = parameter_dictionary['sourceRawFolderPaths'].split(',')\n# synapse_write_out_mode = parameter_dictionary['synapseWriteOutMode']\n# synapse_sql_db_name = parameter_dictionary['synapseSqlDbName']\n# synapse_sql_staging_table_schema = parameter_dictionary['synapseStagingTableSchema']\n# synapse_sql_staging_table_name = parameter_dictionary['synapseStagingTableName']\n# synapse_sql_dim_table_schema = parameter_dictionary['synapseDimTableSchema']\n# synapse_sql_dim_table_name = parameter_dictionary['synapseDimTableName']\n# synapse_resource_name = parameter_dictionary['synapseResourceName']\n# synapse_data_lake_storage_account = parameter_dictionary['synapseDataLakeStorageAccount']\n# synapse_data_lake_container = parameter_dictionary['synapseDataLakeContainer']\n# synapse_data_lake_initial_folder = parameter_dictionary['synapseDataLakeInitialFolder']\n# type_i_columns_list = [element for element in parameter_dictionary['typeIColumnsList'].split(',') if element != '']",
   "execution_count": null,
   "outputs": []
  },
  {
   "cell_type": "code",
   "id": "1c58ff94-10c3-419a-8382-45bd4b493eb8",
   "metadata": {
    "language": "python",
    "name": "cell4"
   },
   "outputs": [],
   "source": "# dataLakeServicePrincipalConnectionInitiation(data_lake_service_principal_client_id_secret_reference, data_lake_service_principal_client_secret_secret_reference, tenant_id_secret_reference)",
   "execution_count": null
  },
  {
   "cell_type": "code",
   "id": "c297b5e4-076e-4ba0-9f3e-65fddae7b4a5",
   "metadata": {
    "language": "python",
    "name": "cell5"
   },
   "outputs": [],
   "source": "# business_key_columns = ['WellGUID']\n# helper_object = HelperMethods(storage_account_name = silver_storage_account,\n#                                     source_raw_folder_paths = [source_raw_folder_paths],\n#                                     process_start_datetime = process_start_datetime,\n#                                     process_end_datetime = process_end_datetime,\n#                                     business_key_columns = business_key_columns,\n#                                     type_i_columns_list = type_i_columns_list\n#                                    )",
   "execution_count": null
  },
  {
   "cell_type": "code",
   "id": "06853710-9589-43ff-81b5-c2113e3a70c7",
   "metadata": {
    "language": "python",
    "name": "cell11",
    "collapsed": false
   },
   "outputs": [],
   "source": "# WellsDF = session.read.option(\"INFER_SCHEMA\", True).option(\"PARSE_HEADER\", True).csv(\"'@GMAHADEVAN_DB.GMAHADEVAN_SCHEMA.SUNCOR_LIB/test.csv'\")\n# WellsDF",
   "execution_count": null
  },
  {
   "cell_type": "code",
   "id": "9e66fc4e-536d-45c6-940e-4dc333c86757",
   "metadata": {
    "language": "python",
    "name": "cell6",
    "collapsed": false
   },
   "outputs": [],
   "source": "from snowflake.snowpark.functions import lit\n\n# WellsDF = helper_object._data_read(source_raw_folder_paths, 'UNITSMETRIC_WELLS_V2', 'type_ii_incremental_join_right_side')\nWellsDF = session.table('GMAHADEVAN_DB.GMAHADEVAN_SCHEMA.dim_test')\nWellsDF = WellsDF.withColumn(\"CasingFlangeElevationUOM\", lit('meters').cast('string')) \\\n.withColumn(\"EWDistanceUOM\", lit('meters').cast('string')) \\\n.withColumn(\"GroundElevationUOM\", lit('meters').cast('string')) \\\n.withColumn(\"KBToCasingFlangeDistanceUOM\", lit('meters').cast('string')) \\\n.withColumn(\"KBToGroundDistanceUOM\", lit('meters').cast('string')) \\\n.withColumn(\"KBToMudLineDistanceUOM\", lit('meters').cast('string')) \\\n.withColumn(\"KBToOtherDistanceUOM\", lit('meters').cast('string')) \\\n.withColumn(\"KBToTubingDistanceUOM\", lit('meters').cast('string')) \\\n.withColumn(\"MudLineElevationUOM\", lit('meters').cast('string')) \\\n.withColumn(\"NSDistanceUOM\", lit('meters').cast('string')) \\\n.withColumn(\"OriginalKBElevationUOM\", lit('meters').cast('string')) \\\n.withColumn(\"OtherElevationLabel\", lit(None).cast('string')) \\\n.withColumn(\"OtherElevationNote\", lit(None).cast('string')) \\\n.withColumn(\"OtherElevationToCasinfgFlangeDistanceUOM\", lit('meters').cast('string')) \\\n.withColumn(\"OtherElevationToGroundDistanceUOM\", lit('meters').cast('string')) \\\n.withColumn(\"OtherElevationToMudDistanceUOM\", lit('meters').cast('string')) \\\n.withColumn(\"OtherElevationToTubingDistanceUOM\", lit('meters').cast('string')) \\\n.withColumn(\"OtherElevationValue\", lit(None).cast('decimal(38,15)')) \\\n.withColumn(\"TotalDepthUOM\", lit('meters').cast('string')) \\\n.withColumn(\"TubingHeadElevationUOM\", lit('meters').cast('string')) \\\n.withColumn(\"UnwrapDisplaceUOMCode\", lit('meters').cast('string')) \\\n.withColumn(\"WellPadRowID\", lit(None).cast('string'))\nWellsDF",
   "execution_count": null
  },
  {
   "cell_type": "code",
   "id": "4abb99a6-96ed-482f-b647-0a95f9a579f7",
   "metadata": {
    "language": "python",
    "name": "cell7"
   },
   "outputs": [],
   "source": "ClmsDtypes = [\n\n\n\n[\"WellGUID\",\"ID\",\"string\"],\n[\"WellPadRowID\",\"WellPadRowID\",\"string\"],\n[\"WellPadName\",\"PADNAME\",\"string\"],\n[\"Agent\",\"AGENT\",\"string\"],\n[\"BusinessUnit\",\"AREA\",\"string\"],\n[\"Basin\",\"BASIN\",\"string\"],\n[\"BasinCode\",\"BASINCODE\",\"string\"],\n[\"NumberofCasingStrings\",\"NUMBEROFCASINGSTRINGS\",\"int\"],\n[\"Comments\",\"COMMENTS\",\"string\"],\n[\"Country\",\"COUNTRY\",\"string\"],\n[\"County\",\"COUNTY\",\"string\"],\n[\"CurrentWellStatus\",\"WELLSTATUS\",\"string\"],\n[\"Directions\",\"DIRECTIONSTOWELL\",\"string\"],\n[\"UnwrapDisplace\",\"UNWRAPPEDDISPLACE\",\"decimal(38,15)\"],\n[\"UnwrapDisplaceUOM\",\"UnwrapDisplaceUOMCode\",\"string\"],\n[\"District\",\"DISTRICT\",\"string\"],\n[\"EnterpriseDivision\",\"DIVISION\",\"string\"],\n[\"AbandonmentDatetimeTZ\",\"ABANDONDATE\",\"timestamp\"],\n[\"RigReleaseDatetimeTZ\",\"RIGRELEASEDATE\",\"timestamp\"],\n[\"SpuddingDatetimeTZ\",\"SPUDDATE\",\"timestamp\"],\n[\"LicenceDatetime\",\"WELLLICENSEDATE\",\"timestamp\"],\n[\"StatusDatetimeTZ\",\"CURRENTSTATUSDATE\",\"timestamp\"],\n[\"CasingFlangeElevation\",\"CASINGFLANGEELEVATION\",\"decimal(38,15)\"],\n[\"CasingFlangeElevationUOM\",\"CasingFlangeElevationUOM\",\"string\"],\n[\"GroundElevation\",\"GROUNDELEVATION\",\"decimal(38,15)\"],\n[\"GroundElevationUOM\",\"GroundElevationUOM\",\"string\"],\n[\"MudLineElevation\",\"MUDLINEELEVATION\",\"decimal(38,15)\"],\n[\"MudLineElevationUOM\",\"MudLineElevationUOM\",\"string\"],\n[\"OriginalKellyBushingElevation\",\"ORIGINALKBELEVATION\",\"decimal(38,15)\"],\n[\"OriginalKellyBushingElevationUOM\",\"OriginalKBElevationUOM\",\"string\"],\n[\"TubingHeadElevation\",\"TUBINGHEADELEVATION\",\"decimal(38,15)\"],\n[\"TubingHeadElevationUOM\",\"TubingHeadElevationUOM\",\"string\"],\n[\"EnvironmentSensitiveInd\",\"ENVIRONMENTSENSITIVE\",\"boolean\"],\n[\"EWDistance\",\"EASTWESTDISTANCE\",\"decimal(38,15)\"],\n[\"EWDistanceUOM\",\"EWDistanceUOM\",\"string\"],\n[\"EWFlag\",\"EASTWESTREFERENCE\",\"string\"],[\"FieldName\",\"FIELDNAME\",\"string\"],\n[\"FieldOffice\",\"FIELDOFFICE\",\"string\"],\n[\"GovernmentAuthority\",\"GOVERNMENTAUTHORITY\",\"string\"],\n[\"HighH2SInd\",\"HIGHH2S\",\"boolean\"],\n[\"HighShutInTubingPressureInd\",\"HIGHSITP\",\"boolean\"],\n[\"OtherElevationValue\",\"OtherElevationValue\",\"decimal(38,15)\"],\n[\"OtherElevationLabel\",\"OtherElevationLabel\",\"string\"],\n[\"OtherElevationNote\",\"OtherElevationNote\",\"string\"],\n[\"KellyBushingToCasingFlangeDistance\",\"KBCASINGFLANGEDISTANCE\",\"decimal(38,15)\"],\n[\"KellyBushingToCasingFlangeDistanceUOM\",\"KBToCasingFlangeDistanceUOM\",\"string\"],\n[\"KellyBushingToGroundDistance\",\"KBGROUNDDISTANCE\",\"decimal(38,15)\"],\n[\"KellyBushingToGroundDistanceUOM\",\"KBToGroundDistanceUOM\",\"string\"],\n[\"KellyBushingToMudLineDistance\",\"KBMUDLINEDISTANCE\",\"decimal(38,15)\"],\n[\"KellyBushingToMudLineDistanceUOM\",\"KBToMudLineDistanceUOM\",\"string\"],\n[\"KellyBushingToOtherDistance\",\"KBOTHERDISTANCE\",\"decimal(38,15)\"],\n[\"KellyBushingToOtherDistanceUOM\",\"KBToOtherDistanceUOM\",\"string\"],\n[\"KellyBushingToTubingDistance\",\"KBTUBINGHEADDISTANCE\",\"decimal(38,15)\"],\n[\"KellyBushingToTubingDistanceUOM\",\"KBToTubingDistanceUOM\",\"string\"],\n[\"LastJobSummary\",\"LASTJOB\",\"string\"],\n[\"LastJobReportSummary\",\"LASTDAILYOPSREPORT\",\"string\"],\n[\"Latitude\",\"LATITUDE\",\"decimal(38,18)\"],\n[\"Longitude\",\"LONGITUDE\",\"decimal(38,18)\"],\n[\"LatitudeLongitudeDatum\",\"LATLONGDATUM\",\"string\"],\n[\"Lease\",\"LEASE\",\"string\"],\n[\"LegalSurveyLocation\",\"SURFACELEGALLOCATION\",\"string\"],\n[\"LegalSurveyType\",\"LEGALSURVEYTYPE\",\"string\"],\n[\"LocationReference\",\"LOCATIONREFERENCE\",\"string\"],\n[\"LocationSensitiveInd\",\"LOCATIONSENSITIVE\",\"boolean\"],\n[\"NSDistance\",\"NORTHSOUTHDISTANCE\",\"decimal(38,15)\"],\n[\"NSDistanceUOM\",\"NSDistanceUOM\",\"string\"],\n[\"NSFlag\",\"NORTHSOUTHREFERENCE\",\"string\"],\n[\"OperatedInd\",\"OPERATED\",\"boolean\"],\n[\"WellOperator\",\"OPERATOR\",\"string\"],\n[\"OperatorBACode\",\"OPERATORCODE\",\"string\"],\n[\"OtherElevationToCasingFlangeDistance\",\"OTHERCASINGFLANGEDISTANCE\",\"decimal(38,15)\"],\n[\"OtherElevationToCasinfgFlangeDistanceUOM\",\"OtherElevationToCasinfgFlangeDistanceUOM\",\"string\"],\n[\"OtherElevationToGroundDistance\",\"OTHERGROUNDDISTANCE\",\"decimal(38,15)\"],\n[\"OtherElevationToGroundDistanceUOM\",\"OtherElevationToGroundDistanceUOM\",\"string\"],\n[\"OtherElevationToMudDistance\",\"OTHERMUDLINEDISTANCE\",\"decimal(38,15)\"],\n[\"OtherElevationToMudDistanceUOM\",\"OtherElevationToMudDistanceUOM\",\"string\"],\n[\"OtherElevationToTubingDistance\",\"OTHERTUBINGHEADDISTANCE\",\"decimal(38,15)\"],\n[\"OtherElevationToTubingDistanceUOM\",\"OtherElevationToTubingDistanceUOM\",\"string\"],\n[\"Platform\",\"PLATFORM\",\"string\"],\n[\"PlugBackTotalDepthSummary\",\"PBTDALL\",\"string\"],\n[\"ProblemWellInd\",\"PROBLEMWITHTHEWELL\",\"boolean\"] ,\n[\"RiskClass\",\"RISKCLASS\",\"string\"],\n[\"Slot\",\"SLOTCONDUCTOR\",\"string\"],\n[\"StateProvince\",\"STATEPROVINCE\",\"string\"],\n[\"TotalDepthSummary\",\"TOTALDEPTHALL\",\"string\"],\n[\"TotalDepth\",\"TOTALDEPTH\",\"decimal(38,15)\"],\n[\"TotalDepthUOM\",\"TotalDepthUOM\",\"string\"],\n[\"TotalTVDSummary\",\"TOTALDEPTHALLTVD\",\"string\"],\n[\"UserBoolean1\",\"USERBOOLEAN1\",\"boolean\"],\n[\"UserBoolean2\",\"USERBOOLEAN2\",\"boolean\"],\n[\"UserBoolean3\",\"USERBOOLEAN3\",\"boolean\"],\n[\"UserBoolean4\",\"USERBOOLEAN4\",\"boolean\"],\n[\"UserBoolean5\",\"USERBOOLEAN5\",\"boolean\"],\n[\"UserDatetime1\",\"USERDATE1\",\"timestamp\"],\n[\"UserDatetime2\",\"USERDATE2\",\"timestamp\"],\n[\"UserDatetime3\",\"USERDATE3\",\"timestamp\"],\n[\"EstimatedHoursPerWell\",\"USERNUM1\",\"decimal(38,15)\"],\n[\"ProgDepth\",\"USERNUM2\",\"decimal(38,15)\"],\n[\"UserNum6\",\"USERNUM6\",\"decimal(38,15)\"],\n[\"SpudNotificationNumber\",\"USERTEXT1\",\"string\"],\n[\"AbandonmentNotificationNumber\",\"USERTEXT2\",\"string\"],\n[\"ProjectGroup\",\"USERTEXT3\",\"string\"],\n[\"CoreType1\",\"USERTEXT4\",\"string\"],\n[\"CoreType2\",\"USERTEXT5\",\"string\"],\n[\"UserText6\",\"USERTEXT6\",\"string\"],\n[\"AccessRoadConditions\",\"USERTEXT9\",\"string\"],\n[\"WellFileType\",\"USERTEXT10\",\"string\"],\n[\"UTMGridZone\",\"UTMGRIDZONE\",\"int\"],\n[\"UTMEasting\",\"UTMEASTING\",\"decimal(38,15)\"],\n[\"UTMNorthing\",\"UTMNORTHING\",\"decimal(38,15)\"],\n[\"WaterDepth\",\"WATERDEPTH\",\"decimal(38,15)\"],\n[\"NumberOfWellbores\",\"NUMBEROFWELLBORES\",\"int\"],\n[\"OnshoreOffshoreDesignation\",\"ONSHOREOROFFSHOREDESIGNATION\",\"string\"],\n[\"WellSourClass\",\"SOURCLASS\",\"string\"],\n[\"WellConfiguration\",\"WELLCONFIGURATIONTYPE\",\"string\"],\n[\"UWI\",\"APIUWI\",\"string\"],\n[\"ProjectName\",\"EXTRAWELLIDB\",\"string\"],\n[\"PreviousWellName\",\"EXTRAWELLIDC\",\"string\"],\n[\"WellShortName\",\"EXTRAWELLIDD\",\"string\"],\n[\"OSE\",\"EXTRAWELLIDE\",\"string\"],\n[\"WellLicencee\",\"LICENSEE\",\"string\"],\n[\"WellLicenceNumber\",\"LICENSE\",\"string\"],\n[\"WellType1\",\"WELLTYPE\",\"string\"],\n[\"WellType2\",\"WELLSUBTYPE\",\"string\"],\n[\"CurrentWellSubStatus\",\"WELLSUBSTATUS\",\"string\"],\n[\"WellName\",\"WELLNAME\",\"string\"],\n[\"SecurityType\",\"SECURITYTYPE\",\"string\"]\n]",
   "execution_count": null
  },
  {
   "cell_type": "code",
   "id": "2947e54d-aed5-41a1-af5e-7edc08d039cb",
   "metadata": {
    "language": "python",
    "name": "cell12"
   },
   "outputs": [],
   "source": "# def add_dimension_audit_columns(df):\n#     \"\"\"\n#     Adding audit columns that are used in dimension tables\n#     This method has the __EffectiveStartDateTime new audit column.  If column value is not available, the value is defaulted to current system date.\n#     \"\"\"\n#     _business_key_columns = []\n#     datetime_now = datetime.datetime.now()\n#     output_df = (df\n#                 .withColumn('__BusinessKeyHash', sha2(concat_ws('|', *[col(column).cast(StringType()) for column in _column_name_list_sort(_business_key_columns)]), 256).cast(BinaryType()))\n#                 .withColumn('__Type1Hash', sha2(concat_ws('|', *[col(column).cast(StringType()) for column in  _column_name_list_sort(_type_i_columns_list)]), 256).cast(BinaryType())) #explicitly determined\n#                 .withColumn('__Type2Hash', sha2(concat_ws('|', *[col(column).cast(StringType()) for column in  _column_name_list_sort(set(df.columns) - set(_type_i_columns_list) - set([creation_date_time_column, modification_date_time_column]))]), 256).cast(BinaryType())) #all columns except typeI, business key and audit columns\n#                 .withColumn('__DeletedFlag', col('__deleted') if ('__deleted' in additional_column_list) else lit(False))\n#                 .withColumn('__CreateDateTime', lit(datetime_now))\n#                 )\n\n#     # If creation date time column does not exist, set to null.\n#     if(creation_date_time_column in df.columns):\n#         output_df = output_df.withColumn('__DataCreationDateTime', when(col(creation_date_time_column).isNotNull(), col(creation_date_time_column).cast(TimestampType())).otherwise(lit(None).cast(TimestampType())))\n#     else:\n#         output_df = output_df.withColumn('__DataCreationDateTime', lit(None).cast(TimestampType()))\n\n#     # If modification date time column does not exist or null, set to null.\n#     if(modification_date_time_column in df.columns):\n#         output_df = output_df.withColumn('__DataModificationDateTime', when(col(modification_date_time_column).isNotNull(), col(modification_date_time_column).cast(TimestampType())).otherwise(lit(None).cast(TimestampType())))\n#     else:\n#         output_df = output_df.withColumn('__DataModificationDateTime', lit(None).cast(TimestampType()))\n\n#     return (output_df)",
   "execution_count": null
  },
  {
   "cell_type": "code",
   "id": "9bcc4891-05a3-434b-b448-d34ef8465415",
   "metadata": {
    "language": "python",
    "name": "cell13",
    "collapsed": false
   },
   "outputs": [],
   "source": "def add_dim_audit_columns(df):\n\n    business_key_columns = ['WellGUID']\n    type_i_columns_list = ['WellGUID','WellPadRowID','WellPadName','Agent','BusinessUnit','Basin','BasinCode','NumberofCasingStrings','Comments','Country','County','CurrentWellStatus','Directions','UnwrapDisplace','UnwrapDisplaceUOM','District','EnterpriseDivision','AbandonmentDatetimeTZ','RigReleaseDatetimeTZ','SpuddingDatetimeTZ','LicenceDatetime','StatusDatetimeTZ','CasingFlangeElevation','CasingFlangeElevationUOM','GroundElevation','GroundElevationUOM','MudLineElevation','MudLineElevationUOM','OriginalKellyBushingElevation','OriginalKellyBushingElevationUOM','TubingHeadElevation','TubingHeadElevationUOM','EnvironmentSensitiveInd','EWDistance','EWDistanceUOM','EWFlag','FieldName','FieldOffice','GovernmentAuthority','HighH2SInd','HighShutInTubingPressureInd','OtherElevationValue','OtherElevationLabel','OtherElevationNote','KellyBushingToCasingFlangeDistance','KellyBushingToCasingFlangeDistanceUOM','KellyBushingToGroundDistance','KellyBushingToGroundDistanceUOM','KellyBushingToMudLineDistance','KellyBushingToMudLineDistanceUOM','KellyBushingToOtherDistance','KellyBushingToOtherDistanceUOM','KellyBushingToTubingDistance','KellyBushingToTubingDistanceUOM','LastJobSummary','LastJobReportSummary','Latitude','Longitude','LatitudeLongitudeDatum','Lease','LegalSurveyLocation','LegalSurveyType','LocationReference','LocationSensitiveInd','NSDistance','NSDistanceUOM','NSFlag','OperatedInd','WellOperator','OperatorBACode','OtherElevationToCasingFlangeDistance','OtherElevationToCasinfgFlangeDistanceUOM','OtherElevationToGroundDistance','OtherElevationToGroundDistanceUOM','OtherElevationToMudDistance','OtherElevationToMudDistanceUOM','OtherElevationToTubingDistance','OtherElevationToTubingDistanceUOM','Platform','PlugBackTotalDepthSummary','ProblemWellInd','RiskClass','Slot','StateProvince','TotalDepthSummary','TotalDepth','TotalDepthUOM','TotalTVDSummary','UserBoolean1','UserBoolean2','UserBoolean3','UserBoolean4','UserBoolean5','UserDatetime1','UserDatetime2','UserDatetime3','EstimatedHoursPerWell','ProgDepth','UserNum6','SpudNotificationNumber','AbandonmentNotificationNumber','ProjectGroup','CoreType1','CoreType2','UserText6','AccessRoadConditions','WellFileType','UTMGridZone','UTMEasting','UTMNorthing','WaterDepth','NumberOfWellbores','OnshoreOffshoreDesignation','WellSourClass','WellConfiguration','UWI','ProjectName','PreviousWellName','WellShortName','OSE','WellLicencee','WellLicenceNumber','WellType1','WellType2','CurrentWellSubStatus','WellName','SecurityType']\n    \n    if(business_key_columns is not None):\n      business_key_columns = business_key_columns\n    else:\n      business_key_columns = []\n\n    if(type_i_columns_list is not None):\n      type_i_columns_list = type_i_columns_list\n    else:\n      type_i_columns_list = []\n\n    return (df\n            .withColumn('__BusinessKeyHash', sha2(concat_ws(lit('|'), *[col(column).cast(StringType()) for column in _column_name_list_sort(business_key_columns)]), 256).cast(BinaryType()))\n            .withColumn('__Type1Hash', sha2(concat_ws(lit('|'), *[col(column).cast(StringType()) for column in  _column_name_list_sort(type_i_columns_list)]), 256).cast(BinaryType())) #explicitly determined\n            .withColumn('__Type2Hash', sha2(concat_ws(lit('|'), *[col(column).cast(StringType()) for column in  _column_name_list_sort(set(df.columns) - set(type_i_columns_list))]), 256).cast(BinaryType())) #all columns except typeI, business key and audit columns\n            .withColumn('__DeletedFlag', lit(False))\n            .withColumn('__CreateDateTime', lit(datetime.datetime.now()))\n           )\n\ndef _column_name_list_sort(column_name_list):\n    \"\"\"\n    Retruns a sorted list of column names based on column names in lower case\n    \"\"\"\n    return sorted(column_name_list, key = lambda element : element.lower())",
   "execution_count": null
  },
  {
   "cell_type": "code",
   "id": "5ac1abc3-259c-4bfb-a601-5c8bf8a12621",
   "metadata": {
    "language": "python",
    "name": "cell14",
    "collapsed": false
   },
   "outputs": [],
   "source": "\ndef _unioning_dataframe_list(df_list: list):\n    \"\"\"\n    Unions a list of datarames. Used for reading the same table of data from multiple mines at once.\n    \"\"\"\n    return reduce(snowflake.snowpark.DataFrame.unionByName, df_list)",
   "execution_count": null
  },
  {
   "cell_type": "code",
   "id": "13a2abdb-51e8-43bc-baac-1b633948f762",
   "metadata": {
    "language": "python",
    "name": "cell8",
    "collapsed": false
   },
   "outputs": [],
   "source": "\ndf_list = []\n\ndf = reduce(lambda WellsDF, i: WellsDF.withColumnRenamed(ClmsDtypes[i][1], ClmsDtypes[i][0]), range(len([clOld for clNew,clOld,xlDtype in ClmsDtypes])),WellsDF.\\\n            select([clOld for clNew,clOld,xlDtype in ClmsDtypes]))\n\noutput_df = (reduce(lambda df, i: df.withColumn(ClmsDtypes[i][0], df[ClmsDtypes[i][0]].cast(ClmsDtypes[i][2])), range(len([clOld for clNew,clOld,xlDtype in ClmsDtypes])),df).select([clNew for clNew,clOld,xlDtype in ClmsDtypes])).transform(add_dim_audit_columns) \n\ndf_list.append(output_df)\n\nfinal_output_df = _unioning_dataframe_list(df_list)\nfinal_output_df",
   "execution_count": null
  },
  {
   "cell_type": "code",
   "id": "d708641a-63f0-4c05-a329-72b84e3d5303",
   "metadata": {
    "language": "python",
    "name": "cell9"
   },
   "outputs": [],
   "source": "# final_output_df.cache()\n\nupdating_records_count = final_output_df.count()",
   "execution_count": null
  },
  {
   "cell_type": "code",
   "id": "348eaf4d-b680-4c25-a5dc-80ae4fe18808",
   "metadata": {
    "language": "python",
    "name": "cell10"
   },
   "outputs": [],
   "source": "if(updating_records_count != 0):\n    final_output_df.write.save_as_table(\"dim_output\", mode=\"append\", table_type=\"temporary\")\n  # synapse_ingestion(final_output_df, synapse_write_out_mode, synapse_sql_db_name, synapse_sql_staging_table_schema, synapse_sql_staging_table_name, synapse_resource_name, synapse_data_lake_storage_account, synapse_data_lake_container, synapse_data_lake_initial_folder)\n\n# dbutils.notebook.exit({'updateing_records_count': updating_records_count})",
   "execution_count": null
  }
 ]
}