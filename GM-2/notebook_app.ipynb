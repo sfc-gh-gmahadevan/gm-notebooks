{
 "metadata": {
  "kernelspec": {
   "display_name": "Streamlit Notebook",
   "name": "streamlit"
  }
 },
 "nbformat_minor": 5,
 "nbformat": 4,
 "cells": [
  {
   "cell_type": "code",
   "id": "3775908f-ca36-4846-8f38-5adca39217f2",
   "metadata": {
    "language": "python",
    "name": "cell1",
    "collapsed": false
   },
   "source": "# Import python packages\nimport streamlit as st\nimport pandas as pd\n\n# We can also use Snowpark for our analyses!\nfrom snowflake.snowpark.context import get_active_session\nsession = get_active_session()\n",
   "execution_count": null,
   "outputs": []
  },
  {
   "cell_type": "code",
   "id": "17d453be-3dce-4c38-bede-69101ada965a",
   "metadata": {
    "language": "python",
    "name": "cell5",
    "collapsed": false
   },
   "outputs": [],
   "source": "from snowflake.snowpark.functions import upper\ndef to_upper_str_columns(df):\n    return df.withColumn(\"CourseName\",upper(df.CourseName))",
   "execution_count": null
  },
  {
   "cell_type": "code",
   "id": "b629efc0-8913-4667-9170-99f8abbb1329",
   "metadata": {
    "language": "python",
    "name": "cell6",
    "collapsed": false
   },
   "outputs": [],
   "source": "df = session.createDataFrame([(\"java\", 1)], (\"CourseName\", \"value\"))\ndf.",
   "execution_count": null
  },
  {
   "cell_type": "code",
   "id": "4f3a4b7e-bb66-4abd-9d59-282a8ec37d82",
   "metadata": {
    "language": "python",
    "name": "cell4",
    "collapsed": false
   },
   "outputs": [],
   "source": "import modin.pandas as pd\n\n# Import the Snowpark pandas plugin for modin.\nimport snowflake.snowpark.modin.plugin\n\ndf = session.createDataFrame([(\"java\", 1)], (\"CourseName\", \"value\"))\ndf_p = df.to_snowpark_pandas() \ndft = df_p.transform(lambda x: upper(x), axis=1)\ndft\n\n# df = session.create_dataframe([[1, 2, 3]], schema=[\"a\", \"b\", \"c\"])\n# pdf = df.to_snowpark_pandas()\n# a_df = pdf.transform(lambda x: x + 1, axis=1)\n# a_df",
   "execution_count": null
  },
  {
   "cell_type": "code",
   "id": "8d50cbf4-0c8d-4950-86cb-114990437ac9",
   "metadata": {
    "language": "sql",
    "name": "cell2"
   },
   "source": "-- Welcome to Snowflake Notebooks!\n-- Try out a SQL cell to generate some data.\nSELECT 'FRIDAY' as SNOWDAY, 0.2 as CHANCE_OF_SNOW\nUNION ALL\nSELECT 'SATURDAY',0.5\nUNION ALL \nSELECT 'SUNDAY', 0.9;",
   "execution_count": null,
   "outputs": []
  },
  {
   "cell_type": "code",
   "id": "c695373e-ac74-4b62-a1f1-08206cbd5c81",
   "metadata": {
    "language": "python",
    "name": "cell3"
   },
   "source": "# Then, we can use the python name to turn cell2 into a Pandas dataframe\nmy_df = cell2.to_pandas()\n\n# Chart the data\nst.subheader(\"Chance of SNOW ❄️\")\nst.line_chart(my_df, x='SNOWDAY', y='CHANCE_OF_SNOW')\n\n# Give it a go!\nst.subheader(\"Try it out yourself and show off your skills 🥇\")",
   "execution_count": null,
   "outputs": []
  }
 ]
}